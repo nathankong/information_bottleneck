{
 "cells": [
  {
   "cell_type": "code",
   "execution_count": 1,
   "metadata": {},
   "outputs": [],
   "source": [
    "import matplotlib.pyplot as plt\n",
    "%matplotlib inline\n",
    "import numpy as np\n",
    "import sys\n",
    "sys.path.append(\"../code\")\n",
    "\n",
    "np.random.seed(0)"
   ]
  },
  {
   "cell_type": "code",
   "execution_count": 2,
   "metadata": {},
   "outputs": [],
   "source": [
    "from dataset import build_gaussian_mixture_dataset, GaussianMixtureDataset"
   ]
  },
  {
   "cell_type": "code",
   "execution_count": 3,
   "metadata": {},
   "outputs": [],
   "source": [
    "# n_points = 200\n",
    "# n_components = 2\n",
    "# means = np.array([[-1,1],[1,-1]]).reshape(n_components,2)\n",
    "# variances = np.array([[[0.1,0],[0,0.1]],[[0.1,0],[0,0.1]]]).reshape(n_components,2,2)\n",
    "# mixture_probs = np.array([0.5,0.5])\n",
    "# x, y = build_gaussian_mixture_dataset(n_points, n_components, means, variances, mixture_probs)\n",
    "# print(x.shape)"
   ]
  },
  {
   "cell_type": "code",
   "execution_count": 4,
   "metadata": {},
   "outputs": [],
   "source": [
    "# plt.figure()\n",
    "# plt.scatter(x[:,0], x[:,1])"
   ]
  },
  {
   "cell_type": "code",
   "execution_count": 5,
   "metadata": {},
   "outputs": [
    {
     "name": "stdout",
     "output_type": "stream",
     "text": [
      "(500, 1)\n"
     ]
    }
   ],
   "source": [
    "n_points = 500\n",
    "n_components = 2\n",
    "means = np.array([-1,1]).reshape(n_components,1)\n",
    "variances = np.array([0.25,0.25]).reshape(n_components,1,1)\n",
    "mixture_probs = np.array([0.5,0.5])\n",
    "x, y = build_gaussian_mixture_dataset(n_points, n_components, means, variances, mixture_probs)\n",
    "print(x.shape)"
   ]
  },
  {
   "cell_type": "code",
   "execution_count": 6,
   "metadata": {},
   "outputs": [
    {
     "data": {
      "text/plain": [
       "(array([ 1.,  1.,  3.,  2.,  1.,  1.,  5.,  4.,  9.,  5., 13., 23., 11.,\n",
       "        21., 20., 22., 17., 24., 12., 10., 16., 11.,  8.,  5.,  4.,  6.,\n",
       "         5.,  5., 11.,  4., 11.,  8., 14., 15., 18., 17., 19., 24., 15.,\n",
       "        21.,  9., 13., 12.,  5.,  7.,  5.,  2.,  1.,  3.,  1.]),\n",
       " array([-2.52307153, -2.42763809, -2.33220466, -2.23677122, -2.14133779,\n",
       "        -2.04590436, -1.95047092, -1.85503749, -1.75960405, -1.66417062,\n",
       "        -1.56873718, -1.47330375, -1.37787031, -1.28243688, -1.18700344,\n",
       "        -1.09157001, -0.99613658, -0.90070314, -0.80526971, -0.70983627,\n",
       "        -0.61440284, -0.5189694 , -0.42353597, -0.32810253, -0.2326691 ,\n",
       "        -0.13723567, -0.04180223,  0.0536312 ,  0.14906464,  0.24449807,\n",
       "         0.33993151,  0.43536494,  0.53079838,  0.62623181,  0.72166524,\n",
       "         0.81709868,  0.91253211,  1.00796555,  1.10339898,  1.19883242,\n",
       "         1.29426585,  1.38969929,  1.48513272,  1.58056615,  1.67599959,\n",
       "         1.77143302,  1.86686646,  1.96229989,  2.05773333,  2.15316676,\n",
       "         2.2486002 ]),\n",
       " <a list of 50 Patch objects>)"
      ]
     },
     "execution_count": 6,
     "metadata": {},
     "output_type": "execute_result"
    },
    {
     "data": {
      "image/png": "[encoded data removed]",
      "text/plain": [
       "<Figure size 432x288 with 1 Axes>"
      ]
     },
     "metadata": {
      "needs_background": "light"
     },
     "output_type": "display_data"
    }
   ],
   "source": [
    "plt.figure()\n",
    "plt.hist(x[:,0], bins=50)"
   ]
  },
  {
   "cell_type": "code",
   "execution_count": 7,
   "metadata": {},
   "outputs": [
    {
     "name": "stdout",
     "output_type": "stream",
     "text": [
      "(500, 1)\n",
      "[[ 1.]\n",
      " [ 1.]\n",
      " [ 1.]\n",
      " [ 1.]\n",
      " [-1.]\n",
      " [ 1.]\n",
      " [-1.]\n",
      " [ 1.]\n",
      " [ 1.]\n",
      " [-1.]]\n"
     ]
    }
   ],
   "source": [
    "print(y.shape)\n",
    "print(y[:10])"
   ]
  },
  {
   "cell_type": "code",
   "execution_count": 8,
   "metadata": {},
   "outputs": [
    {
     "name": "stdout",
     "output_type": "stream",
     "text": [
      "(1500, 1)\n"
     ]
    }
   ],
   "source": [
    "n_points = 1500\n",
    "n_components = 3\n",
    "means = np.array([-2,0,2]).reshape(n_components,1)\n",
    "variances = np.array([0.1,0.1,0.1]).reshape(n_components,1,1)\n",
    "mixture_probs = np.array([0.33,0.33,0.34])\n",
    "x, y = build_gaussian_mixture_dataset(n_points, n_components, means, variances, mixture_probs)\n",
    "print(x.shape)"
   ]
  },
  {
   "cell_type": "code",
   "execution_count": 9,
   "metadata": {},
   "outputs": [
    {
     "data": {
      "text/plain": [
       "(array([ 1.,  5., 17., 23., 37., 65., 74., 73., 61., 52., 33., 20., 11.,\n",
       "         4.,  1.,  1.,  0.,  2.,  9., 10., 30., 33., 56., 70., 64., 67.,\n",
       "        46., 48., 21.,  8.,  4.,  0.,  0.,  4.,  4.,  7., 20., 40., 61.,\n",
       "        67., 69., 83., 73., 52., 34., 21., 16.,  0.,  2.,  1.]),\n",
       " array([-2.88881128, -2.77012244, -2.6514336 , -2.53274477, -2.41405593,\n",
       "        -2.29536709, -2.17667825, -2.05798941, -1.93930058, -1.82061174,\n",
       "        -1.7019229 , -1.58323406, -1.46454522, -1.34585639, -1.22716755,\n",
       "        -1.10847871, -0.98978987, -0.87110103, -0.7524122 , -0.63372336,\n",
       "        -0.51503452, -0.39634568, -0.27765684, -0.15896801, -0.04027917,\n",
       "         0.07840967,  0.19709851,  0.31578735,  0.43447618,  0.55316502,\n",
       "         0.67185386,  0.7905427 ,  0.90923154,  1.02792037,  1.14660921,\n",
       "         1.26529805,  1.38398689,  1.50267573,  1.62136456,  1.7400534 ,\n",
       "         1.85874224,  1.97743108,  2.09611992,  2.21480875,  2.33349759,\n",
       "         2.45218643,  2.57087527,  2.68956411,  2.80825294,  2.92694178,\n",
       "         3.04563062]),\n",
       " <a list of 50 Patch objects>)"
      ]
     },
     "execution_count": 9,
     "metadata": {},
     "output_type": "execute_result"
    },
    {
     "data": {
      "image/png": "[encoded data removed]",
      "text/plain": [
       "<Figure size 432x288 with 1 Axes>"
      ]
     },
     "metadata": {
      "needs_background": "light"
     },
     "output_type": "display_data"
    }
   ],
   "source": [
    "plt.figure()\n",
    "plt.hist(x[:,0], bins=50)"
   ]
  },
  {
   "cell_type": "code",
   "execution_count": 10,
   "metadata": {},
   "outputs": [
    {
     "name": "stdout",
     "output_type": "stream",
     "text": [
      "(200, 1)\n"
     ]
    }
   ],
   "source": [
    "n_points = 200\n",
    "n_components = 3\n",
    "means = np.array([-5,-2,2]).reshape(n_components,1)\n",
    "variances = np.array([0.1,0.1,0.1]).reshape(n_components,1,1)\n",
    "mixture_probs = np.array([0.33,0.33,0.34])\n",
    "x, y = build_gaussian_mixture_dataset(n_points, n_components, means, variances, mixture_probs)\n",
    "print(x.shape)"
   ]
  },
  {
   "cell_type": "code",
   "execution_count": 11,
   "metadata": {},
   "outputs": [
    {
     "data": {
      "text/plain": [
       "(array([ 5.,  8., 10.,  8., 18., 15.,  3.,  2.,  1.,  0.,  0.,  0.,  0.,\n",
       "         0.,  0.,  0.,  0.,  2.,  2., 13.,  8., 20.,  8., 11.,  3.,  3.,\n",
       "         1.,  0.,  0.,  0.,  0.,  0.,  0.,  0.,  0.,  0.,  0.,  0.,  1.,\n",
       "         0.,  0.,  1.,  4.,  5.,  8.,  8., 16.,  8.,  4.,  4.]),\n",
       " array([-5.61253995e+00, -5.44756893e+00, -5.28259792e+00, -5.11762690e+00,\n",
       "        -4.95265588e+00, -4.78768486e+00, -4.62271385e+00, -4.45774283e+00,\n",
       "        -4.29277181e+00, -4.12780079e+00, -3.96282977e+00, -3.79785876e+00,\n",
       "        -3.63288774e+00, -3.46791672e+00, -3.30294570e+00, -3.13797468e+00,\n",
       "        -2.97300367e+00, -2.80803265e+00, -2.64306163e+00, -2.47809061e+00,\n",
       "        -2.31311960e+00, -2.14814858e+00, -1.98317756e+00, -1.81820654e+00,\n",
       "        -1.65323552e+00, -1.48826451e+00, -1.32329349e+00, -1.15832247e+00,\n",
       "        -9.93351453e-01, -8.28380435e-01, -6.63409417e-01, -4.98438399e-01,\n",
       "        -3.33467381e-01, -1.68496364e-01, -3.52534579e-03,  1.61445672e-01,\n",
       "         3.26416690e-01,  4.91387708e-01,  6.56358726e-01,  8.21329743e-01,\n",
       "         9.86300761e-01,  1.15127178e+00,  1.31624280e+00,  1.48121381e+00,\n",
       "         1.64618483e+00,  1.81115585e+00,  1.97612687e+00,  2.14109789e+00,\n",
       "         2.30606890e+00,  2.47103992e+00,  2.63601094e+00]),\n",
       " <a list of 50 Patch objects>)"
      ]
     },
     "execution_count": 11,
     "metadata": {},
     "output_type": "execute_result"
    },
    {
     "data": {
      "image/png": "[encoded data removed]",
      "text/plain": [
       "<Figure size 432x288 with 1 Axes>"
      ]
     },
     "metadata": {
      "needs_background": "light"
     },
     "output_type": "display_data"
    }
   ],
   "source": [
    "plt.figure()\n",
    "plt.hist(x[:,0], bins=50)"
   ]
  },
  {
   "cell_type": "code",
   "execution_count": 36,
   "metadata": {},
   "outputs": [
    {
     "name": "stdout",
     "output_type": "stream",
     "text": [
      "(30, 1) (30, 1)\n",
      "(30, 1) (30, 1)\n"
     ]
    }
   ],
   "source": [
    "N = 30\n",
    "n_components = 1\n",
    "means = np.array([0]).reshape(n_components,1)\n",
    "variances = np.array([0.25]).reshape(n_components,1,1)\n",
    "mixture_probs = np.ones((n_components,), dtype=np.float) / n_components\n",
    "\n",
    "train_dataset = GaussianMixtureDataset(N, n_components, means, variances, mixture_probs)\n",
    "test_dataset = GaussianMixtureDataset(N, n_components, means, variances, mixture_probs)"
   ]
  },
  {
   "cell_type": "code",
   "execution_count": 37,
   "metadata": {},
   "outputs": [
    {
     "data": {
      "text/plain": [
       "(array([1., 2., 0., 0., 0., 1., 0., 1., 4., 1., 1., 2., 4., 1., 4., 1., 4.,\n",
       "        0., 1., 0., 1., 0., 0., 0., 1.]),\n",
       " array([-1.29017963, -1.18951173, -1.08884384, -0.98817595, -0.88750805,\n",
       "        -0.78684016, -0.68617226, -0.58550437, -0.48483647, -0.38416858,\n",
       "        -0.28350069, -0.18283279, -0.0821649 ,  0.018503  ,  0.11917089,\n",
       "         0.21983878,  0.32050668,  0.42117457,  0.52184247,  0.62251036,\n",
       "         0.72317825,  0.82384615,  0.92451404,  1.02518194,  1.12584983,\n",
       "         1.22651772]),\n",
       " <a list of 25 Patch objects>)"
      ]
     },
     "execution_count": 37,
     "metadata": {},
     "output_type": "execute_result"
    },
    {
     "data": {
      "image/png": "[encoded data removed]",
      "text/plain": [
       "<Figure size 432x288 with 1 Axes>"
      ]
     },
     "metadata": {
      "needs_background": "light"
     },
     "output_type": "display_data"
    }
   ],
   "source": [
    "plt.hist(train_dataset.X, bins=25)"
   ]
  },
  {
   "cell_type": "code",
   "execution_count": 38,
   "metadata": {},
   "outputs": [
    {
     "data": {
      "text/plain": [
       "(array([1., 0., 0., 0., 1., 0., 0., 0., 1., 3., 0., 1., 1., 3., 3., 0., 3.,\n",
       "        2., 2., 2., 2., 1., 2., 0., 2.]),\n",
       " array([-1.37863192, -1.2881878 , -1.19774367, -1.10729955, -1.01685543,\n",
       "        -0.92641131, -0.83596719, -0.74552307, -0.65507895, -0.56463483,\n",
       "        -0.47419071, -0.38374659, -0.29330246, -0.20285834, -0.11241422,\n",
       "        -0.0219701 ,  0.06847402,  0.15891814,  0.24936226,  0.33980638,\n",
       "         0.4302505 ,  0.52069462,  0.61113875,  0.70158287,  0.79202699,\n",
       "         0.88247111]),\n",
       " <a list of 25 Patch objects>)"
      ]
     },
     "execution_count": 38,
     "metadata": {},
     "output_type": "execute_result"
    },
    {
     "data": {
      "image/png": "[encoded data removed]",
      "text/plain": [
       "<Figure size 432x288 with 1 Axes>"
      ]
     },
     "metadata": {
      "needs_background": "light"
     },
     "output_type": "display_data"
    }
   ],
   "source": [
    "plt.hist(test_dataset.X, bins=25)"
   ]
  },
  {
   "cell_type": "code",
   "execution_count": 39,
   "metadata": {},
   "outputs": [
    {
     "name": "stdout",
     "output_type": "stream",
     "text": [
      "(30, 1) (30, 1)\n",
      "(30, 1) (30, 1)\n"
     ]
    }
   ],
   "source": [
    "N = 30\n",
    "n_components = 2\n",
    "means = np.array([-1,1]).reshape(n_components,1)\n",
    "variances = np.array([0.25,0.25]).reshape(n_components,1,1)\n",
    "mixture_probs = np.ones((n_components,), dtype=np.float) / n_components\n",
    "\n",
    "train_dataset = GaussianMixtureDataset(N, n_components, means, variances, mixture_probs)\n",
    "test_dataset = GaussianMixtureDataset(N, n_components, means, variances, mixture_probs)"
   ]
  },
  {
   "cell_type": "code",
   "execution_count": 40,
   "metadata": {},
   "outputs": [
    {
     "data": {
      "text/plain": [
       "(array([2., 0., 0., 0., 1., 2., 2., 3., 2., 1., 1., 1., 2., 0., 1., 0., 1.,\n",
       "        0., 1., 1., 2., 1., 2., 1., 3.]),\n",
       " array([-2.20275594, -2.06449856, -1.92624119, -1.78798381, -1.64972644,\n",
       "        -1.51146906, -1.37321169, -1.23495431, -1.09669694, -0.95843956,\n",
       "        -0.82018219, -0.68192481, -0.54366743, -0.40541006, -0.26715268,\n",
       "        -0.12889531,  0.00936207,  0.14761944,  0.28587682,  0.42413419,\n",
       "         0.56239157,  0.70064894,  0.83890632,  0.97716369,  1.11542107,\n",
       "         1.25367844]),\n",
       " <a list of 25 Patch objects>)"
      ]
     },
     "execution_count": 40,
     "metadata": {},
     "output_type": "execute_result"
    },
    {
     "data": {
      "image/png": "[encoded data removed]",
      "text/plain": [
       "<Figure size 432x288 with 1 Axes>"
      ]
     },
     "metadata": {
      "needs_background": "light"
     },
     "output_type": "display_data"
    }
   ],
   "source": [
    "plt.hist(train_dataset.X, bins=25)"
   ]
  },
  {
   "cell_type": "code",
   "execution_count": 41,
   "metadata": {},
   "outputs": [
    {
     "data": {
      "text/plain": [
       "(array([2., 0., 2., 2., 1., 3., 1., 2., 1., 1., 1., 0., 2., 1., 0., 3., 3.,\n",
       "        2., 1., 0., 0., 1., 0., 0., 1.]),\n",
       " array([-1.91797869, -1.74235986, -1.56674102, -1.39112219, -1.21550335,\n",
       "        -1.03988452, -0.86426569, -0.68864685, -0.51302802, -0.33740918,\n",
       "        -0.16179035,  0.01382848,  0.18944732,  0.36506615,  0.54068498,\n",
       "         0.71630382,  0.89192265,  1.06754149,  1.24316032,  1.41877915,\n",
       "         1.59439799,  1.77001682,  1.94563566,  2.12125449,  2.29687332,\n",
       "         2.47249216]),\n",
       " <a list of 25 Patch objects>)"
      ]
     },
     "execution_count": 41,
     "metadata": {},
     "output_type": "execute_result"
    },
    {
     "data": {
      "image/png": "[encoded data removed]",
      "text/plain": [
       "<Figure size 432x288 with 1 Axes>"
      ]
     },
     "metadata": {
      "needs_background": "light"
     },
     "output_type": "display_data"
    }
   ],
   "source": [
    "plt.hist(test_dataset.X, bins=25)"
   ]
  },
  {
   "cell_type": "code",
   "execution_count": null,
   "metadata": {},
   "outputs": [],
   "source": []
  }
 ],
 "metadata": {
  "kernelspec": {
   "display_name": "Python 2",
   "language": "python",
   "name": "python2"
  },
  "language_info": {
   "codemirror_mode": {
    "name": "ipython",
    "version": 2
   },
   "file_extension": ".py",
   "mimetype": "text/x-python",
   "name": "python",
   "nbconvert_exporter": "python",
   "pygments_lexer": "ipython2",
   "version": "2.7.12"
  }
 },
 "nbformat": 4,
 "nbformat_minor": 2
}
