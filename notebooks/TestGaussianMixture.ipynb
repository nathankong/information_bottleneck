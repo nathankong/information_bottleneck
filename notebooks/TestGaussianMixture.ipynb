{
 "cells": [
  {
   "cell_type": "code",
   "execution_count": 1,
   "metadata": {},
   "outputs": [],
   "source": [
    "import matplotlib.pyplot as plt\n",
    "%matplotlib inline\n",
    "import numpy as np\n",
    "import sys\n",
    "sys.path.append(\"../code\")\n",
    "\n",
    "np.random.seed(0)"
   ]
  },
  {
   "cell_type": "code",
   "execution_count": 2,
   "metadata": {},
   "outputs": [],
   "source": [
    "from dataset import build_gaussian_mixture_dataset"
   ]
  },
  {
   "cell_type": "code",
   "execution_count": 3,
   "metadata": {},
   "outputs": [],
   "source": [
    "# n_points = 200\n",
    "# n_components = 2\n",
    "# means = np.array([[-1,1],[1,-1]]).reshape(n_components,2)\n",
    "# variances = np.array([[[0.1,0],[0,0.1]],[[0.1,0],[0,0.1]]]).reshape(n_components,2,2)\n",
    "# mixture_probs = np.array([0.5,0.5])\n",
    "# x, y = build_gaussian_mixture_dataset(n_points, n_components, means, variances, mixture_probs)\n",
    "# print(x.shape)"
   ]
  },
  {
   "cell_type": "code",
   "execution_count": 4,
   "metadata": {},
   "outputs": [],
   "source": [
    "# plt.figure()\n",
    "# plt.scatter(x[:,0], x[:,1])"
   ]
  },
  {
   "cell_type": "code",
   "execution_count": 16,
   "metadata": {},
   "outputs": [
    {
     "name": "stdout",
     "output_type": "stream",
     "text": [
      "(200, 1)\n"
     ]
    }
   ],
   "source": [
    "n_points = 200\n",
    "n_components = 2\n",
    "means = np.array([-1,1]).reshape(n_components,1)\n",
    "variances = np.array([0.25,0.25]).reshape(n_components,1,1)\n",
    "mixture_probs = np.array([0.5,0.5])\n",
    "x, y = build_gaussian_mixture_dataset(n_points, n_components, means, variances, mixture_probs)\n",
    "print(x.shape)"
   ]
  },
  {
   "cell_type": "code",
   "execution_count": 17,
   "metadata": {},
   "outputs": [
    {
     "data": {
      "text/plain": [
       "(array([ 1.,  0.,  0.,  0.,  0.,  0.,  0.,  1.,  1.,  3.,  3.,  4.,  2.,\n",
       "         4.,  8.,  9.,  6., 11., 10., 15.,  8.,  1.,  3.,  4.,  2.,  3.,\n",
       "         2.,  3.,  1.,  2.,  3.,  2.,  6.,  7.,  6., 11., 10.,  7.,  6.,\n",
       "         1.,  4.,  9.,  3.,  8.,  3.,  1.,  2.,  0.,  3.,  1.]),\n",
       " array([-2.79858167, -2.69923954, -2.59989741, -2.50055528, -2.40121315,\n",
       "        -2.30187102, -2.20252889, -2.10318676, -2.00384463, -1.9045025 ,\n",
       "        -1.80516037, -1.70581824, -1.6064761 , -1.50713397, -1.40779184,\n",
       "        -1.30844971, -1.20910758, -1.10976545, -1.01042332, -0.91108119,\n",
       "        -0.81173906, -0.71239693, -0.6130548 , -0.51371267, -0.41437054,\n",
       "        -0.3150284 , -0.21568627, -0.11634414, -0.01700201,  0.08234012,\n",
       "         0.18168225,  0.28102438,  0.38036651,  0.47970864,  0.57905077,\n",
       "         0.6783929 ,  0.77773503,  0.87707716,  0.97641929,  1.07576143,\n",
       "         1.17510356,  1.27444569,  1.37378782,  1.47312995,  1.57247208,\n",
       "         1.67181421,  1.77115634,  1.87049847,  1.9698406 ,  2.06918273,\n",
       "         2.16852486]),\n",
       " <a list of 50 Patch objects>)"
      ]
     },
     "execution_count": 17,
     "metadata": {},
     "output_type": "execute_result"
    },
    {
     "data": {
      "image/png": "[encoded data removed]",
      "text/plain": [
       "<Figure size 432x288 with 1 Axes>"
      ]
     },
     "metadata": {
      "needs_background": "light"
     },
     "output_type": "display_data"
    }
   ],
   "source": [
    "plt.figure()\n",
    "plt.hist(x[:,0], bins=50)"
   ]
  },
  {
   "cell_type": "code",
   "execution_count": 7,
   "metadata": {},
   "outputs": [
    {
     "name": "stdout",
     "output_type": "stream",
     "text": [
      "(200, 1)\n",
      "[[ 1.]\n",
      " [ 1.]\n",
      " [ 1.]\n",
      " [ 1.]\n",
      " [-1.]\n",
      " [ 1.]\n",
      " [-1.]\n",
      " [ 1.]\n",
      " [ 1.]\n",
      " [-1.]]\n"
     ]
    }
   ],
   "source": [
    "print(y.shape)\n",
    "print(y[:10])"
   ]
  },
  {
   "cell_type": "code",
   "execution_count": 8,
   "metadata": {},
   "outputs": [
    {
     "name": "stdout",
     "output_type": "stream",
     "text": [
      "(1500, 1)\n"
     ]
    }
   ],
   "source": [
    "n_points = 1500\n",
    "n_components = 3\n",
    "means = np.array([-2,0,2]).reshape(n_components,1)\n",
    "variances = np.array([0.1,0.1,0.1]).reshape(n_components,1,1)\n",
    "mixture_probs = np.array([0.33,0.33,0.34])\n",
    "x, y = build_gaussian_mixture_dataset(n_points, n_components, means, variances, mixture_probs)\n",
    "print(x.shape)"
   ]
  },
  {
   "cell_type": "code",
   "execution_count": 9,
   "metadata": {},
   "outputs": [
    {
     "data": {
      "text/plain": [
       "(array([ 1.,  1.,  5., 12., 30., 36., 61., 61., 82., 65., 52., 39., 30.,\n",
       "        13.,  4.,  2.,  0.,  0.,  2.,  7., 10., 21., 39., 51., 55., 71.,\n",
       "        66., 61., 35., 18., 16., 11.,  3.,  1.,  0.,  1.,  2.,  8., 21.,\n",
       "        22., 62., 50., 79., 81., 70., 66., 35., 26., 11.,  5.]),\n",
       " array([-2.9856366 , -2.87033812, -2.75503965, -2.63974118, -2.52444271,\n",
       "        -2.40914424, -2.29384576, -2.17854729, -2.06324882, -1.94795035,\n",
       "        -1.83265187, -1.7173534 , -1.60205493, -1.48675646, -1.37145798,\n",
       "        -1.25615951, -1.14086104, -1.02556257, -0.91026409, -0.79496562,\n",
       "        -0.67966715, -0.56436868, -0.44907021, -0.33377173, -0.21847326,\n",
       "        -0.10317479,  0.01212368,  0.12742216,  0.24272063,  0.3580191 ,\n",
       "         0.47331757,  0.58861605,  0.70391452,  0.81921299,  0.93451146,\n",
       "         1.04980993,  1.16510841,  1.28040688,  1.39570535,  1.51100382,\n",
       "         1.6263023 ,  1.74160077,  1.85689924,  1.97219771,  2.08749619,\n",
       "         2.20279466,  2.31809313,  2.4333916 ,  2.54869008,  2.66398855,\n",
       "         2.77928702]),\n",
       " <a list of 50 Patch objects>)"
      ]
     },
     "execution_count": 9,
     "metadata": {},
     "output_type": "execute_result"
    },
    {
     "data": {
      "image/png": "[encoded data removed]",
      "text/plain": [
       "<Figure size 432x288 with 1 Axes>"
      ]
     },
     "metadata": {
      "needs_background": "light"
     },
     "output_type": "display_data"
    }
   ],
   "source": [
    "plt.figure()\n",
    "plt.hist(x[:,0], bins=50)"
   ]
  },
  {
   "cell_type": "code",
   "execution_count": 14,
   "metadata": {},
   "outputs": [
    {
     "name": "stdout",
     "output_type": "stream",
     "text": [
      "(1500, 1)\n"
     ]
    }
   ],
   "source": [
    "n_points = 1500\n",
    "n_components = 3\n",
    "means = np.array([-5,-2,2]).reshape(n_components,1)\n",
    "variances = np.array([0.1,0.1,0.1]).reshape(n_components,1,1)\n",
    "mixture_probs = np.array([0.33,0.33,0.34])\n",
    "x, y = build_gaussian_mixture_dataset(n_points, n_components, means, variances, mixture_probs)\n",
    "print(x.shape)"
   ]
  },
  {
   "cell_type": "code",
   "execution_count": 15,
   "metadata": {},
   "outputs": [
    {
     "data": {
      "text/plain": [
       "(array([  6.,  19.,  50.,  86., 115., 105.,  81.,  37.,  12.,   6.,   1.,\n",
       "          0.,   0.,   0.,   0.,   0.,   0.,   7.,  28.,  44.,  86., 124.,\n",
       "        101.,  57.,  26.,  12.,   4.,   0.,   0.,   0.,   0.,   0.,   0.,\n",
       "          0.,   0.,   0.,   0.,   0.,   1.,   6.,  13.,  49.,  77., 118.,\n",
       "         88.,  74.,  44.,  16.,   5.,   2.]),\n",
       " array([-5.86825564, -5.68902541, -5.50979517, -5.33056494, -5.15133471,\n",
       "        -4.97210448, -4.79287425, -4.61364401, -4.43441378, -4.25518355,\n",
       "        -4.07595332, -3.89672309, -3.71749285, -3.53826262, -3.35903239,\n",
       "        -3.17980216, -3.00057193, -2.82134169, -2.64211146, -2.46288123,\n",
       "        -2.283651  , -2.10442077, -1.92519054, -1.7459603 , -1.56673007,\n",
       "        -1.38749984, -1.20826961, -1.02903938, -0.84980914, -0.67057891,\n",
       "        -0.49134868, -0.31211845, -0.13288822,  0.04634202,  0.22557225,\n",
       "         0.40480248,  0.58403271,  0.76326294,  0.94249318,  1.12172341,\n",
       "         1.30095364,  1.48018387,  1.6594141 ,  1.83864433,  2.01787457,\n",
       "         2.1971048 ,  2.37633503,  2.55556526,  2.73479549,  2.91402573,\n",
       "         3.09325596]),\n",
       " <a list of 50 Patch objects>)"
      ]
     },
     "execution_count": 15,
     "metadata": {},
     "output_type": "execute_result"
    },
    {
     "data": {
      "image/png": "[encoded data removed]",
      "text/plain": [
       "<Figure size 432x288 with 1 Axes>"
      ]
     },
     "metadata": {
      "needs_background": "light"
     },
     "output_type": "display_data"
    }
   ],
   "source": [
    "plt.figure()\n",
    "plt.hist(x[:,0], bins=50)"
   ]
  },
  {
   "cell_type": "code",
   "execution_count": null,
   "metadata": {},
   "outputs": [],
   "source": []
  }
 ],
 "metadata": {
  "kernelspec": {
   "display_name": "Python 2",
   "language": "python",
   "name": "python2"
  },
  "language_info": {
   "codemirror_mode": {
    "name": "ipython",
    "version": 3
   },
   "file_extension": ".py",
   "mimetype": "text/x-python",
   "name": "python",
   "nbconvert_exporter": "python",
   "pygments_lexer": "ipython3",
   "version": "3.6.7"
  }
 },
 "nbformat": 4,
 "nbformat_minor": 2
}
