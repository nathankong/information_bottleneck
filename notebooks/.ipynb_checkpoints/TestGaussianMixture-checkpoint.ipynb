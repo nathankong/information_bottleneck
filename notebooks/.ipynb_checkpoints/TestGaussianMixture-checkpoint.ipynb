{
 "cells": [
  {
   "cell_type": "code",
   "execution_count": 1,
   "metadata": {},
   "outputs": [],
   "source": [
    "import matplotlib.pyplot as plt\n",
    "%matplotlib inline\n",
    "import numpy as np\n",
    "import sys\n",
    "sys.path.append(\"../code\")\n",
    "\n",
    "np.random.seed(0)"
   ]
  },
  {
   "cell_type": "code",
   "execution_count": 2,
   "metadata": {},
   "outputs": [],
   "source": [
    "from dataset import build_gaussian_mixture_dataset"
   ]
  },
  {
   "cell_type": "code",
   "execution_count": 3,
   "metadata": {},
   "outputs": [
    {
     "name": "stdout",
     "output_type": "stream",
     "text": [
      "(200, 2)\n"
     ]
    }
   ],
   "source": [
    "n_points = 200\n",
    "n_components = 2\n",
    "means = np.array([[-1,1],[1,-1]]).reshape(n_components,2)\n",
    "variances = np.array([[[0.1,0],[0,0.1]],[[0.1,0],[0,0.1]]]).reshape(n_components,2,2)\n",
    "mixture_probs = np.array([0.5,0.5])\n",
    "x, y = build_gaussian_mixture_dataset(n_points, n_components, means, variances, mixture_probs)\n",
    "print x.shape"
   ]
  },
  {
   "cell_type": "code",
   "execution_count": 4,
   "metadata": {},
   "outputs": [
    {
     "data": {
      "text/plain": [
       "<matplotlib.collections.PathCollection at 0x7f1b524ab150>"
      ]
     },
     "execution_count": 4,
     "metadata": {},
     "output_type": "execute_result"
    },
    {
     "data": {
      "image/png": "[encoded data removed]",
      "text/plain": [
       "<Figure size 432x288 with 1 Axes>"
      ]
     },
     "metadata": {
      "needs_background": "light"
     },
     "output_type": "display_data"
    }
   ],
   "source": [
    "plt.figure()\n",
    "plt.scatter(x[:,0], x[:,1])"
   ]
  },
  {
   "cell_type": "code",
   "execution_count": 5,
   "metadata": {},
   "outputs": [
    {
     "name": "stdout",
     "output_type": "stream",
     "text": [
      "(200, 1)\n"
     ]
    }
   ],
   "source": [
    "n_points = 200\n",
    "n_components = 2\n",
    "means = np.array([-1,1]).reshape(n_components,1)\n",
    "variances = np.array([0.1,0.1]).reshape(n_components,1,1)\n",
    "mixture_probs = np.array([0.5,0.5])\n",
    "x, y = build_gaussian_mixture_dataset(n_points, n_components, means, variances, mixture_probs)\n",
    "print x.shape"
   ]
  },
  {
   "cell_type": "code",
   "execution_count": 6,
   "metadata": {},
   "outputs": [
    {
     "data": {
      "text/plain": [
       "(array([ 5.,  2.,  2.,  5., 14.,  7., 11., 10., 15., 10.,  7.,  6.,  2.,\n",
       "         2.,  4.,  1.,  2.,  2.,  0.,  0.,  1.,  0.,  0.,  0.,  0.,  0.,\n",
       "         1.,  1.,  0.,  2.,  2.,  5.,  2.,  7.,  8.,  8.,  7.,  6.,  7.,\n",
       "         6.,  4.,  7.,  8.,  2.,  3.,  0.,  3.,  0.,  2.,  1.]),\n",
       " array([-1.56646751, -1.49934448, -1.43222144, -1.36509841, -1.29797538,\n",
       "        -1.23085235, -1.16372932, -1.09660628, -1.02948325, -0.96236022,\n",
       "        -0.89523719, -0.82811415, -0.76099112, -0.69386809, -0.62674506,\n",
       "        -0.55962203, -0.49249899, -0.42537596, -0.35825293, -0.2911299 ,\n",
       "        -0.22400686, -0.15688383, -0.0897608 , -0.02263777,  0.04448526,\n",
       "         0.1116083 ,  0.17873133,  0.24585436,  0.31297739,  0.38010042,\n",
       "         0.44722346,  0.51434649,  0.58146952,  0.64859255,  0.71571559,\n",
       "         0.78283862,  0.84996165,  0.91708468,  0.98420771,  1.05133075,\n",
       "         1.11845378,  1.18557681,  1.25269984,  1.31982288,  1.38694591,\n",
       "         1.45406894,  1.52119197,  1.588315  ,  1.65543804,  1.72256107,\n",
       "         1.7896841 ]),\n",
       " <a list of 50 Patch objects>)"
      ]
     },
     "execution_count": 6,
     "metadata": {},
     "output_type": "execute_result"
    },
    {
     "data": {
      "image/png": "[encoded data removed]",
      "text/plain": [
       "<Figure size 432x288 with 1 Axes>"
      ]
     },
     "metadata": {
      "needs_background": "light"
     },
     "output_type": "display_data"
    }
   ],
   "source": [
    "plt.figure()\n",
    "plt.hist(x[:,0], bins=50)"
   ]
  },
  {
   "cell_type": "code",
   "execution_count": 7,
   "metadata": {},
   "outputs": [
    {
     "name": "stdout",
     "output_type": "stream",
     "text": [
      "(200, 1)\n",
      "[[1]\n",
      " [0]\n",
      " [0]\n",
      " [0]\n",
      " [0]\n",
      " [1]\n",
      " [0]\n",
      " [1]\n",
      " [0]\n",
      " [0]]\n"
     ]
    }
   ],
   "source": [
    "print y.shape\n",
    "print y[:10]"
   ]
  },
  {
   "cell_type": "code",
   "execution_count": 16,
   "metadata": {},
   "outputs": [
    {
     "name": "stdout",
     "output_type": "stream",
     "text": [
      "(1500, 1)\n"
     ]
    }
   ],
   "source": [
    "n_points = 1500\n",
    "n_components = 3\n",
    "means = np.array([-2,0,2]).reshape(n_components,1)\n",
    "variances = np.array([0.1,0.1,0.1]).reshape(n_components,1,1)\n",
    "mixture_probs = np.array([0.33,0.33,0.34])\n",
    "x, y = build_gaussian_mixture_dataset(n_points, n_components, means, variances, mixture_probs)\n",
    "print x.shape"
   ]
  },
  {
   "cell_type": "code",
   "execution_count": 17,
   "metadata": {},
   "outputs": [
    {
     "data": {
      "text/plain": [
       "(array([ 4.,  9., 12., 14., 41., 58., 68., 73., 73., 55., 34., 33., 17.,\n",
       "        12.,  6.,  5.,  1.,  4.,  3., 10.,  9., 26., 62., 55., 69., 81.,\n",
       "        55., 44., 35., 18.,  7.,  6.,  2.,  0.,  1.,  5.,  9., 11., 34.,\n",
       "        34., 50., 68., 81., 64., 57., 45., 20., 11.,  6.,  3.]),\n",
       " array([-2.87192338, -2.75725952, -2.64259566, -2.52793181, -2.41326795,\n",
       "        -2.29860409, -2.18394023, -2.06927637, -1.95461251, -1.83994865,\n",
       "        -1.72528479, -1.61062093, -1.49595708, -1.38129322, -1.26662936,\n",
       "        -1.1519655 , -1.03730164, -0.92263778, -0.80797392, -0.69331006,\n",
       "        -0.57864621, -0.46398235, -0.34931849, -0.23465463, -0.11999077,\n",
       "        -0.00532691,  0.10933695,  0.22400081,  0.33866467,  0.45332852,\n",
       "         0.56799238,  0.68265624,  0.7973201 ,  0.91198396,  1.02664782,\n",
       "         1.14131168,  1.25597554,  1.3706394 ,  1.48530325,  1.59996711,\n",
       "         1.71463097,  1.82929483,  1.94395869,  2.05862255,  2.17328641,\n",
       "         2.28795027,  2.40261413,  2.51727798,  2.63194184,  2.7466057 ,\n",
       "         2.86126956]),\n",
       " <a list of 50 Patch objects>)"
      ]
     },
     "execution_count": 17,
     "metadata": {},
     "output_type": "execute_result"
    },
    {
     "data": {
      "image/png": "[encoded data removed]",
      "text/plain": [
       "<Figure size 432x288 with 1 Axes>"
      ]
     },
     "metadata": {
      "needs_background": "light"
     },
     "output_type": "display_data"
    }
   ],
   "source": [
    "plt.figure()\n",
    "plt.hist(x[:,0], bins=50)"
   ]
  },
  {
   "cell_type": "code",
   "execution_count": null,
   "metadata": {},
   "outputs": [],
   "source": []
  }
 ],
 "metadata": {
  "kernelspec": {
   "display_name": "Python 2",
   "language": "python",
   "name": "python2"
  },
  "language_info": {
   "codemirror_mode": {
    "name": "ipython",
    "version": 2
   },
   "file_extension": ".py",
   "mimetype": "text/x-python",
   "name": "python",
   "nbconvert_exporter": "python",
   "pygments_lexer": "ipython2",
   "version": "2.7.12"
  }
 },
 "nbformat": 4,
 "nbformat_minor": 2
}
