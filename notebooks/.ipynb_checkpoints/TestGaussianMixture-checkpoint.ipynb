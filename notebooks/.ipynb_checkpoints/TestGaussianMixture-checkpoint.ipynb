{
 "cells": [
  {
   "cell_type": "code",
   "execution_count": 1,
   "metadata": {},
   "outputs": [],
   "source": [
    "import matplotlib.pyplot as plt\n",
    "%matplotlib inline\n",
    "import numpy as np\n",
    "import sys\n",
    "sys.path.append(\"../code\")\n",
    "\n",
    "np.random.seed(0)"
   ]
  },
  {
   "cell_type": "code",
   "execution_count": 2,
   "metadata": {},
   "outputs": [],
   "source": [
    "from dataset import build_gaussian_mixture_dataset"
   ]
  },
  {
   "cell_type": "code",
   "execution_count": 3,
   "metadata": {},
   "outputs": [],
   "source": [
    "# n_points = 200\n",
    "# n_components = 2\n",
    "# means = np.array([[-1,1],[1,-1]]).reshape(n_components,2)\n",
    "# variances = np.array([[[0.1,0],[0,0.1]],[[0.1,0],[0,0.1]]]).reshape(n_components,2,2)\n",
    "# mixture_probs = np.array([0.5,0.5])\n",
    "# x, y = build_gaussian_mixture_dataset(n_points, n_components, means, variances, mixture_probs)\n",
    "# print(x.shape)"
   ]
  },
  {
   "cell_type": "code",
   "execution_count": 4,
   "metadata": {},
   "outputs": [],
   "source": [
    "# plt.figure()\n",
    "# plt.scatter(x[:,0], x[:,1])"
   ]
  },
  {
   "cell_type": "code",
   "execution_count": 30,
   "metadata": {},
   "outputs": [
    {
     "name": "stdout",
     "output_type": "stream",
     "text": [
      "(500, 1)\n"
     ]
    }
   ],
   "source": [
    "n_points = 500\n",
    "n_components = 2\n",
    "means = np.array([-1,1]).reshape(n_components,1)\n",
    "variances = np.array([0.25,0.25]).reshape(n_components,1,1)\n",
    "mixture_probs = np.array([0.5,0.5])\n",
    "x, y = build_gaussian_mixture_dataset(n_points, n_components, means, variances, mixture_probs)\n",
    "print(x.shape)"
   ]
  },
  {
   "cell_type": "code",
   "execution_count": 31,
   "metadata": {},
   "outputs": [
    {
     "data": {
      "text/plain": [
       "(array([ 2.,  3.,  3.,  2.,  5.,  4.,  5., 12.,  8., 16., 12., 21., 17.,\n",
       "        23., 21., 16., 18., 16.,  9.,  5., 12., 10.,  4.,  8.,  4., 11.,\n",
       "         7., 10.,  8.,  9., 21., 24., 19., 22., 18., 18., 20., 13.,  8.,\n",
       "         8., 10.,  4.,  9.,  2.,  1.,  1.,  0.,  0.,  0.,  1.]),\n",
       " array([-2.34673883, -2.24779717, -2.14885552, -2.04991386, -1.9509722 ,\n",
       "        -1.85203055, -1.75308889, -1.65414723, -1.55520558, -1.45626392,\n",
       "        -1.35732226, -1.25838061, -1.15943895, -1.06049729, -0.96155564,\n",
       "        -0.86261398, -0.76367232, -0.66473067, -0.56578901, -0.46684735,\n",
       "        -0.3679057 , -0.26896404, -0.17002238, -0.07108073,  0.02786093,\n",
       "         0.12680259,  0.22574424,  0.3246859 ,  0.42362756,  0.52256921,\n",
       "         0.62151087,  0.72045253,  0.81939418,  0.91833584,  1.0172775 ,\n",
       "         1.11621915,  1.21516081,  1.31410247,  1.41304412,  1.51198578,\n",
       "         1.61092744,  1.70986909,  1.80881075,  1.90775241,  2.00669406,\n",
       "         2.10563572,  2.20457738,  2.30351903,  2.40246069,  2.50140235,\n",
       "         2.60034401]),\n",
       " <a list of 50 Patch objects>)"
      ]
     },
     "execution_count": 31,
     "metadata": {},
     "output_type": "execute_result"
    },
    {
     "data": {
      "image/png": "[encoded data removed]",
      "text/plain": [
       "<Figure size 432x288 with 1 Axes>"
      ]
     },
     "metadata": {
      "needs_background": "light"
     },
     "output_type": "display_data"
    }
   ],
   "source": [
    "plt.figure()\n",
    "plt.hist(x[:,0], bins=50)"
   ]
  },
  {
   "cell_type": "code",
   "execution_count": 7,
   "metadata": {},
   "outputs": [
    {
     "name": "stdout",
     "output_type": "stream",
     "text": [
      "(200, 1)\n",
      "[[ 1.]\n",
      " [ 1.]\n",
      " [ 1.]\n",
      " [ 1.]\n",
      " [-1.]\n",
      " [ 1.]\n",
      " [-1.]\n",
      " [ 1.]\n",
      " [ 1.]\n",
      " [-1.]]\n"
     ]
    }
   ],
   "source": [
    "print(y.shape)\n",
    "print(y[:10])"
   ]
  },
  {
   "cell_type": "code",
   "execution_count": 8,
   "metadata": {},
   "outputs": [
    {
     "name": "stdout",
     "output_type": "stream",
     "text": [
      "(1500, 1)\n"
     ]
    }
   ],
   "source": [
    "n_points = 1500\n",
    "n_components = 3\n",
    "means = np.array([-2,0,2]).reshape(n_components,1)\n",
    "variances = np.array([0.1,0.1,0.1]).reshape(n_components,1,1)\n",
    "mixture_probs = np.array([0.33,0.33,0.34])\n",
    "x, y = build_gaussian_mixture_dataset(n_points, n_components, means, variances, mixture_probs)\n",
    "print(x.shape)"
   ]
  },
  {
   "cell_type": "code",
   "execution_count": 9,
   "metadata": {},
   "outputs": [
    {
     "data": {
      "text/plain": [
       "(array([ 1.,  1.,  5., 12., 30., 36., 61., 61., 82., 65., 52., 39., 30.,\n",
       "        13.,  4.,  2.,  0.,  0.,  2.,  7., 10., 21., 39., 51., 55., 71.,\n",
       "        66., 61., 35., 18., 16., 11.,  3.,  1.,  0.,  1.,  2.,  8., 21.,\n",
       "        22., 62., 50., 79., 81., 70., 66., 35., 26., 11.,  5.]),\n",
       " array([-2.9856366 , -2.87033812, -2.75503965, -2.63974118, -2.52444271,\n",
       "        -2.40914424, -2.29384576, -2.17854729, -2.06324882, -1.94795035,\n",
       "        -1.83265187, -1.7173534 , -1.60205493, -1.48675646, -1.37145798,\n",
       "        -1.25615951, -1.14086104, -1.02556257, -0.91026409, -0.79496562,\n",
       "        -0.67966715, -0.56436868, -0.44907021, -0.33377173, -0.21847326,\n",
       "        -0.10317479,  0.01212368,  0.12742216,  0.24272063,  0.3580191 ,\n",
       "         0.47331757,  0.58861605,  0.70391452,  0.81921299,  0.93451146,\n",
       "         1.04980993,  1.16510841,  1.28040688,  1.39570535,  1.51100382,\n",
       "         1.6263023 ,  1.74160077,  1.85689924,  1.97219771,  2.08749619,\n",
       "         2.20279466,  2.31809313,  2.4333916 ,  2.54869008,  2.66398855,\n",
       "         2.77928702]),\n",
       " <a list of 50 Patch objects>)"
      ]
     },
     "execution_count": 9,
     "metadata": {},
     "output_type": "execute_result"
    },
    {
     "data": {
      "image/png": "[encoded data removed]",
      "text/plain": [
       "<Figure size 432x288 with 1 Axes>"
      ]
     },
     "metadata": {
      "needs_background": "light"
     },
     "output_type": "display_data"
    }
   ],
   "source": [
    "plt.figure()\n",
    "plt.hist(x[:,0], bins=50)"
   ]
  },
  {
   "cell_type": "code",
   "execution_count": 12,
   "metadata": {},
   "outputs": [
    {
     "name": "stdout",
     "output_type": "stream",
     "text": [
      "(200, 1)\n"
     ]
    }
   ],
   "source": [
    "n_points = 200\n",
    "n_components = 3\n",
    "means = np.array([-5,-2,2]).reshape(n_components,1)\n",
    "variances = np.array([0.1,0.1,0.1]).reshape(n_components,1,1)\n",
    "mixture_probs = np.array([0.33,0.33,0.34])\n",
    "x, y = build_gaussian_mixture_dataset(n_points, n_components, means, variances, mixture_probs)\n",
    "print(x.shape)"
   ]
  },
  {
   "cell_type": "code",
   "execution_count": 13,
   "metadata": {},
   "outputs": [
    {
     "data": {
      "text/plain": [
       "(array([ 2.,  4.,  9., 11., 14.,  6.,  6.,  1.,  0.,  1.,  0.,  0.,  0.,\n",
       "         0.,  0.,  0.,  0.,  0.,  3.,  3., 18., 18., 11.,  5.,  6.,  2.,\n",
       "         0.,  0.,  0.,  0.,  0.,  0.,  0.,  0.,  0.,  0.,  0.,  0.,  0.,\n",
       "         0.,  2.,  2.,  5., 12., 17., 27.,  7.,  5.,  0.,  3.]),\n",
       " array([-5.71024441, -5.53952104, -5.36879768, -5.19807432, -5.02735096,\n",
       "        -4.8566276 , -4.68590424, -4.51518087, -4.34445751, -4.17373415,\n",
       "        -4.00301079, -3.83228743, -3.66156406, -3.4908407 , -3.32011734,\n",
       "        -3.14939398, -2.97867062, -2.80794725, -2.63722389, -2.46650053,\n",
       "        -2.29577717, -2.12505381, -1.95433045, -1.78360708, -1.61288372,\n",
       "        -1.44216036, -1.271437  , -1.10071364, -0.92999027, -0.75926691,\n",
       "        -0.58854355, -0.41782019, -0.24709683, -0.07637346,  0.0943499 ,\n",
       "         0.26507326,  0.43579662,  0.60651998,  0.77724334,  0.94796671,\n",
       "         1.11869007,  1.28941343,  1.46013679,  1.63086015,  1.80158352,\n",
       "         1.97230688,  2.14303024,  2.3137536 ,  2.48447696,  2.65520033,\n",
       "         2.82592369]),\n",
       " <a list of 50 Patch objects>)"
      ]
     },
     "execution_count": 13,
     "metadata": {},
     "output_type": "execute_result"
    },
    {
     "data": {
      "image/png": "[encoded data removed]",
      "text/plain": [
       "<Figure size 432x288 with 1 Axes>"
      ]
     },
     "metadata": {
      "needs_background": "light"
     },
     "output_type": "display_data"
    }
   ],
   "source": [
    "plt.figure()\n",
    "plt.hist(x[:,0], bins=50)"
   ]
  },
  {
   "cell_type": "code",
   "execution_count": null,
   "metadata": {},
   "outputs": [],
   "source": []
  }
 ],
 "metadata": {
  "kernelspec": {
   "display_name": "Python 2",
   "language": "python",
   "name": "python2"
  },
  "language_info": {
   "codemirror_mode": {
    "name": "ipython",
    "version": 2
   },
   "file_extension": ".py",
   "mimetype": "text/x-python",
   "name": "python",
   "nbconvert_exporter": "python",
   "pygments_lexer": "ipython2",
   "version": "2.7.12"
  }
 },
 "nbformat": 4,
 "nbformat_minor": 2
}
