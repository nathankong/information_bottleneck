{
 "cells": [
  {
   "cell_type": "code",
   "execution_count": 1,
   "metadata": {},
   "outputs": [],
   "source": [
    "import matplotlib.pyplot as plt\n",
    "%matplotlib inline\n",
    "import numpy as np"
   ]
  },
  {
   "cell_type": "code",
   "execution_count": 2,
   "metadata": {},
   "outputs": [],
   "source": [
    "# results_dir = \"/mnt/fs5/nclkong/information_bottleneck/tmp/\"\n",
    "# results_dir = \"/mnt/fs5/nclkong/information_bottleneck/gaussian_0001_0319/\" # two mixture, tanh, 0.0001, 200 epochs\n",
    "# results_dir = \"/mnt/fs5/nclkong/information_bottleneck/gaussian_0001_0320/\" # two mixture, tanh, 0.0001, 250 epochs\n",
    "results_dir = \"/mnt/fs5/nclkong/information_bottleneck/gaussian_0001_0321/\" # two mixture, tanh, 0.0001, 300 epochs"
   ]
  },
  {
   "cell_type": "code",
   "execution_count": 3,
   "metadata": {},
   "outputs": [],
   "source": [
    "def plot_hist_output(epoch):\n",
    "    vals = np.load(results_dir + \"epoch_{}_outputs_noise.npy\".format(epoch))\n",
    "    print(vals.shape, vals.mean())\n",
    "    plt.figure()\n",
    "    plt.hist(vals, range=[-1.5,1.5], bins=150)\n",
    "    plt.grid(True)\n",
    "\n",
    "def plot_hist_over_epochs(epochs):\n",
    "    num_bins = 100\n",
    "    for epoch in epochs:\n",
    "        vals = np.load(results_dir + \"epoch_{}_outputs_noise.npy\".format(epoch))\n",
    "        hist, _ = np.histogram(vals, range=[-1.5,1.5], bins=num_bins)\n",
    "        xmin = np.min(vals)\n",
    "        xmax = np.max(vals)\n",
    "        x = np.linspace(xmin, xmax, num_bins)\n",
    "        plt.plot(x, hist, label=\"Epoch {}\".format(epoch))\n",
    "        plt.xlim(-1.5,1.5)\n",
    "        plt.legend()\n",
    "    plt.grid(True)\n",
    "\n",
    "def plot_hist_top_view_output(num_epochs):\n",
    "    num_bins = 100\n",
    "    points = 1000\n",
    "    plt.figure(figsize=(10,5))\n",
    "    for epoch in range(num_epochs):\n",
    "        vals = np.load(results_dir + \"epoch_{}_outputs_noise.npy\".format(epoch+1))\n",
    "        hist, bins = np.histogram(vals, range=[-1.5,1.5], bins=num_bins)\n",
    "        total_points = np.sum(hist)\n",
    "#         assert total_points == points, \"Error:{}\".format(total_points)\n",
    "        \n",
    "        i = 0\n",
    "        colours = list()\n",
    "        for b in range(bins.shape[0]-1):\n",
    "            c = plt.cm.jet(hist[i]/float(total_points)*30)\n",
    "            colours.append(c)\n",
    "            i += 1\n",
    "            \n",
    "        epoch_vals = np.tile(epoch, bins[:num_bins].shape)\n",
    "        plt.scatter(epoch_vals, bins[:num_bins], color=colours)\n",
    "    plt.xlabel(\"Epoch\")\n",
    "    plt.ylabel(r\"PDF of $T_1(k)$\")\n",
    "    plt.show()\n",
    "\n",
    "def plot_acc():\n",
    "    vals = np.load(results_dir + \"accuracies.npy\")\n",
    "    plt.figure(figsize=(10,5))\n",
    "    plt.plot(vals)\n",
    "    plt.xlabel(\"Epoch\")\n",
    "    plt.ylabel(\"Accuracy\")\n",
    "    plt.grid(True)\n",
    "    \n",
    "def plot_mutual_info():\n",
    "    vals = np.load(results_dir + \"mutual_information.npy\")\n",
    "    plt.figure(figsize=(10,5))\n",
    "    plt.plot(vals)\n",
    "    plt.ylabel(\"Mutual Information\")\n",
    "    plt.xlabel(\"Epoch\")\n",
    "    plt.grid(True)"
   ]
  },
  {
   "cell_type": "code",
   "execution_count": 4,
   "metadata": {},
   "outputs": [
    {
     "ename": "IOError",
     "evalue": "[Errno 2] No such file or directory: '/mnt/fs5/nckong/information_bottleneck/gaussian_0001_0321/epoch_1_outputs_noise.npy'",
     "output_type": "error",
     "traceback": [
      "\u001b[0;31m---------------------------------------------------------------------------\u001b[0m",
      "\u001b[0;31mIOError\u001b[0m                                   Traceback (most recent call last)",
      "\u001b[0;32m<ipython-input-4-ae0d6591045b>\u001b[0m in \u001b[0;36m<module>\u001b[0;34m()\u001b[0m\n\u001b[0;32m----> 1\u001b[0;31m \u001b[0mplot_hist_output\u001b[0m\u001b[0;34m(\u001b[0m\u001b[0;36m1\u001b[0m\u001b[0;34m)\u001b[0m\u001b[0;34m\u001b[0m\u001b[0m\n\u001b[0m",
      "\u001b[0;32m<ipython-input-3-3b2d4d7a8a8e>\u001b[0m in \u001b[0;36mplot_hist_output\u001b[0;34m(epoch)\u001b[0m\n\u001b[1;32m      1\u001b[0m \u001b[0;32mdef\u001b[0m \u001b[0mplot_hist_output\u001b[0m\u001b[0;34m(\u001b[0m\u001b[0mepoch\u001b[0m\u001b[0;34m)\u001b[0m\u001b[0;34m:\u001b[0m\u001b[0;34m\u001b[0m\u001b[0m\n\u001b[0;32m----> 2\u001b[0;31m     \u001b[0mvals\u001b[0m \u001b[0;34m=\u001b[0m \u001b[0mnp\u001b[0m\u001b[0;34m.\u001b[0m\u001b[0mload\u001b[0m\u001b[0;34m(\u001b[0m\u001b[0mresults_dir\u001b[0m \u001b[0;34m+\u001b[0m \u001b[0;34m\"epoch_{}_outputs_noise.npy\"\u001b[0m\u001b[0;34m.\u001b[0m\u001b[0mformat\u001b[0m\u001b[0;34m(\u001b[0m\u001b[0mepoch\u001b[0m\u001b[0;34m)\u001b[0m\u001b[0;34m)\u001b[0m\u001b[0;34m\u001b[0m\u001b[0m\n\u001b[0m\u001b[1;32m      3\u001b[0m     \u001b[0;32mprint\u001b[0m\u001b[0;34m(\u001b[0m\u001b[0mvals\u001b[0m\u001b[0;34m.\u001b[0m\u001b[0mshape\u001b[0m\u001b[0;34m,\u001b[0m \u001b[0mvals\u001b[0m\u001b[0;34m.\u001b[0m\u001b[0mmean\u001b[0m\u001b[0;34m(\u001b[0m\u001b[0;34m)\u001b[0m\u001b[0;34m)\u001b[0m\u001b[0;34m\u001b[0m\u001b[0m\n\u001b[1;32m      4\u001b[0m     \u001b[0mplt\u001b[0m\u001b[0;34m.\u001b[0m\u001b[0mfigure\u001b[0m\u001b[0;34m(\u001b[0m\u001b[0;34m)\u001b[0m\u001b[0;34m\u001b[0m\u001b[0m\n\u001b[1;32m      5\u001b[0m     \u001b[0mplt\u001b[0m\u001b[0;34m.\u001b[0m\u001b[0mhist\u001b[0m\u001b[0;34m(\u001b[0m\u001b[0mvals\u001b[0m\u001b[0;34m,\u001b[0m \u001b[0mrange\u001b[0m\u001b[0;34m=\u001b[0m\u001b[0;34m[\u001b[0m\u001b[0;34m-\u001b[0m\u001b[0;36m1.5\u001b[0m\u001b[0;34m,\u001b[0m\u001b[0;36m1.5\u001b[0m\u001b[0;34m]\u001b[0m\u001b[0;34m,\u001b[0m \u001b[0mbins\u001b[0m\u001b[0;34m=\u001b[0m\u001b[0;36m150\u001b[0m\u001b[0;34m)\u001b[0m\u001b[0;34m\u001b[0m\u001b[0m\n",
      "\u001b[0;32m/home/nclkong/information_bottleneck/inf_bot/local/lib/python2.7/site-packages/numpy/lib/npyio.pyc\u001b[0m in \u001b[0;36mload\u001b[0;34m(file, mmap_mode, allow_pickle, fix_imports, encoding)\u001b[0m\n\u001b[1;32m    413\u001b[0m         \u001b[0mown_fid\u001b[0m \u001b[0;34m=\u001b[0m \u001b[0mFalse\u001b[0m\u001b[0;34m\u001b[0m\u001b[0m\n\u001b[1;32m    414\u001b[0m     \u001b[0;32melse\u001b[0m\u001b[0;34m:\u001b[0m\u001b[0;34m\u001b[0m\u001b[0m\n\u001b[0;32m--> 415\u001b[0;31m         \u001b[0mfid\u001b[0m \u001b[0;34m=\u001b[0m \u001b[0mopen\u001b[0m\u001b[0;34m(\u001b[0m\u001b[0mos_fspath\u001b[0m\u001b[0;34m(\u001b[0m\u001b[0mfile\u001b[0m\u001b[0;34m)\u001b[0m\u001b[0;34m,\u001b[0m \u001b[0;34m\"rb\"\u001b[0m\u001b[0;34m)\u001b[0m\u001b[0;34m\u001b[0m\u001b[0m\n\u001b[0m\u001b[1;32m    416\u001b[0m         \u001b[0mown_fid\u001b[0m \u001b[0;34m=\u001b[0m \u001b[0mTrue\u001b[0m\u001b[0;34m\u001b[0m\u001b[0m\n\u001b[1;32m    417\u001b[0m \u001b[0;34m\u001b[0m\u001b[0m\n",
      "\u001b[0;31mIOError\u001b[0m: [Errno 2] No such file or directory: '/mnt/fs5/nckong/information_bottleneck/gaussian_0001_0321/epoch_1_outputs_noise.npy'"
     ]
    }
   ],
   "source": [
    "plot_hist_output(1)"
   ]
  },
  {
   "cell_type": "code",
   "execution_count": null,
   "metadata": {},
   "outputs": [],
   "source": [
    "plot_hist_output(5)"
   ]
  },
  {
   "cell_type": "code",
   "execution_count": null,
   "metadata": {},
   "outputs": [],
   "source": [
    "plot_hist_output(10)"
   ]
  },
  {
   "cell_type": "code",
   "execution_count": null,
   "metadata": {},
   "outputs": [],
   "source": [
    "plot_hist_output(15)"
   ]
  },
  {
   "cell_type": "code",
   "execution_count": null,
   "metadata": {},
   "outputs": [],
   "source": [
    "plot_hist_output(50)"
   ]
  },
  {
   "cell_type": "code",
   "execution_count": null,
   "metadata": {},
   "outputs": [],
   "source": [
    "plot_hist_output(60)"
   ]
  },
  {
   "cell_type": "code",
   "execution_count": null,
   "metadata": {},
   "outputs": [],
   "source": [
    "plot_hist_output(100)"
   ]
  },
  {
   "cell_type": "code",
   "execution_count": null,
   "metadata": {},
   "outputs": [],
   "source": [
    "plot_hist_output(150)"
   ]
  },
  {
   "cell_type": "code",
   "execution_count": null,
   "metadata": {},
   "outputs": [],
   "source": [
    "plot_acc()"
   ]
  },
  {
   "cell_type": "code",
   "execution_count": null,
   "metadata": {},
   "outputs": [],
   "source": [
    "plot_mutual_info()"
   ]
  },
  {
   "cell_type": "code",
   "execution_count": null,
   "metadata": {
    "scrolled": false
   },
   "outputs": [],
   "source": [
    "# plot_hist_over_epochs(np.arange(5)+1)\n",
    "plot_hist_over_epochs([1,20,60,100,150,250, 300])"
   ]
  },
  {
   "cell_type": "code",
   "execution_count": null,
   "metadata": {},
   "outputs": [],
   "source": [
    "plot_hist_top_view_output(300)"
   ]
  },
  {
   "cell_type": "code",
   "execution_count": null,
   "metadata": {},
   "outputs": [],
   "source": []
  }
 ],
 "metadata": {
  "kernelspec": {
   "display_name": "Python 2",
   "language": "python",
   "name": "python2"
  },
  "language_info": {
   "codemirror_mode": {
    "name": "ipython",
    "version": 2
   },
   "file_extension": ".py",
   "mimetype": "text/x-python",
   "name": "python",
   "nbconvert_exporter": "python",
   "pygments_lexer": "ipython2",
   "version": "2.7.12"
  }
 },
 "nbformat": 4,
 "nbformat_minor": 2
}
